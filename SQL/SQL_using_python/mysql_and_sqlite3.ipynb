{
 "cells": [
  {
   "cell_type": "code",
   "execution_count": 5,
   "metadata": {},
   "outputs": [],
   "source": [
    "import sqlite3\n",
    "# TEST.dbを作成する\n",
    "# すでに存在していれば、それにアスセスする。\n",
    "dbname = 'TEST.db'\n",
    "conn = sqlite3.connect(dbname)\n",
    "\n",
    "cur = conn.cursor()\n",
    "# personsというtableを作成してみる\n",
    "# 大文字部はSQL文。小文字でも問題ない。\n",
    "cur.execute(\n",
    "    'CREATE TABLE persons(id INTEGER PRIMARY KEY AUTOINCREMENT, name STRING)')\n",
    "\n",
    "# データベースへコミット。これで変更が反映される。\n",
    "conn.commit()\n",
    "\n",
    "# データベースへのコネクションを閉じる。(必須)\n",
    "conn.close()"
   ]
  },
  {
   "cell_type": "code",
   "execution_count": 1,
   "metadata": {},
   "outputs": [],
   "source": [
    "import sqlite3\n",
    "\n",
    "dbname = 'TEST.db'\n",
    "conn = sqlite3.connect(dbname)\n",
    "cur = conn.cursor()\n",
    "\n",
    "# \"name\"に\"Taro\"を入れる\n",
    "cur.execute('INSERT INTO persons(name) values(\"Taro\")')\n",
    "# 同様に\n",
    "cur.execute('INSERT INTO persons(name) values(\"Hanako\")')\n",
    "cur.execute('INSERT INTO persons(name) values(\"Hiroki\")')\n",
    "\n",
    "conn.commit()\n",
    "\n",
    "# terminalで実行したSQL文と同じようにexecute()に書く\n",
    "cur.execute('SELECT * FROM persons')\n",
    "\n",
    "# 中身を全て取得するfetchall()を使って、printする。\n",
    "print(cur.fetchall())\n",
    "\n",
    "cur.close()\n",
    "conn.close()\n"
   ]
  },
  {
   "cell_type": "code",
   "execution_count": 3,
   "metadata": {},
   "outputs": [],
   "source": [
    "import mysql.connector\n",
    "\n",
    "# MySQLに接続\n",
    "conn = mysql.connector.connect(\n",
    "    host=\"localhost\",\n",
    "    user=\"root\",\n",
    "    password=\"Iri.taiga35\"\n",
    ")\n",
    "\n",
    "# カーソルを取得\n",
    "cursor = conn.cursor()\n",
    "\n",
    "dbname = 'TEST'\n",
    "# データベース作成\n",
    "cursor.execute(f\"CREATE DATABASE IF NOT EXISTS {dbname} \")\n",
    "\n",
    "# 接続を閉じる\n",
    "cursor.close()\n",
    "conn.close()"
   ]
  },
  {
   "cell_type": "code",
   "execution_count": 9,
   "metadata": {},
   "outputs": [],
   "source": [
    "import mysql.connector\n",
    "\n",
    "# MySQLに接続\n",
    "conn = mysql.connector.connect(\n",
    "    host=\"localhost\",\n",
    "    user=\"root\",\n",
    "    password=\"Iri.taiga35\",\n",
    "    database = \"TEST\"\n",
    ")\n",
    "\n",
    "cur = conn.cursor()\n",
    "\n",
    "cur.execute(\n",
    "    'CREATE TABLE persons(id INTEGER PRIMARY KEY AUTO_INCREMENT, name VARCHAR(255))') \n",
    "# 基本はsqliteと同じようだが、AUTOINCREMENT<=>AUTO_INCREMENTだったり、STRING<=>CHAR,VARCHARだったりする\n",
    "\n",
    "# \"name\"に\"Taro\"を入れる\n",
    "cur.execute('INSERT INTO persons(name) values(\"Taro\")')\n",
    "# 同様に\n",
    "cur.execute('INSERT INTO persons(name) values(\"Hanako\")')\n",
    "cur.execute('INSERT INTO persons(name) values(\"Hiroki\")')\n",
    "\n",
    "conn.commit()\n",
    "\n",
    "# terminalで実行したSQL文と同じようにexecute()に書く\n",
    "cur.execute('SELECT * FROM persons')\n",
    "\n",
    "# 中身を全て取得するfetchall()を使って、printする。\n",
    "print(cur.fetchall())\n",
    "\n",
    "cur.close()\n",
    "conn.close()"
   ]
  }
 ],
 "metadata": {
  "kernelspec": {
   "display_name": "Python 3",
   "language": "python",
   "name": "python3"
  },
  "language_info": {
   "codemirror_mode": {
    "name": "ipython",
    "version": 3
   },
   "file_extension": ".py",
   "mimetype": "text/x-python",
   "name": "python",
   "nbconvert_exporter": "python",
   "pygments_lexer": "ipython3",
   "version": "3.11.5"
  }
 },
 "nbformat": 4,
 "nbformat_minor": 2
}
