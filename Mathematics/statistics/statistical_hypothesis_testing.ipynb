{
 "cells": [
  {
   "cell_type": "code",
   "execution_count": 3,
   "metadata": {},
   "outputs": [],
   "source": [
    "import numpy as np\n",
    "import pandas as pd\n",
    "from scipy import stats\n"
   ]
  },
  {
   "cell_type": "markdown",
   "metadata": {},
   "source": [
    "# 問題設定\n",
    "裏・表があるコインを５回投げたら、５回とも表だった。\n",
    "- 帰無仮説H0\n",
    "  - p=0.5\n",
    "- 対立仮説H1\n",
    "  - p>0.5"
   ]
  },
  {
   "cell_type": "code",
   "execution_count": 11,
   "metadata": {},
   "outputs": [],
   "source": [
    "class Config:\n",
    "  SIGNIFICANCE_LEVEL = 0.05"
   ]
  },
  {
   "cell_type": "code",
   "execution_count": 12,
   "metadata": {},
   "outputs": [
    {
     "name": "stdout",
     "output_type": "stream",
     "text": [
      "帰無仮説は棄却\n"
     ]
    }
   ],
   "source": [
    "# xは観測データの成功回数\n",
    "# nは試行回数\n",
    "# pは想定する成功確率\n",
    "# alternativeは両側検定か片側検定か、また片側検定であればどちら側であるかを指定する\n",
    "result = stats.binomtest(k=5, n = 5,  p = 0.5, alternative = 'greater')\n",
    "if result.pvalue < Config.SIGNIFICANCE_LEVEL:\n",
    "  print('帰無仮説は棄却')\n",
    "else:\n",
    "  print('帰無仮説が採用')"
   ]
  },
  {
   "cell_type": "code",
   "execution_count": null,
   "metadata": {},
   "outputs": [],
   "source": []
  }
 ],
 "metadata": {
  "kernelspec": {
   "display_name": ".venv",
   "language": "python",
   "name": "python3"
  },
  "language_info": {
   "codemirror_mode": {
    "name": "ipython",
    "version": 3
   },
   "file_extension": ".py",
   "mimetype": "text/x-python",
   "name": "python",
   "nbconvert_exporter": "python",
   "pygments_lexer": "ipython3",
   "version": "3.9.19"
  }
 },
 "nbformat": 4,
 "nbformat_minor": 2
}
