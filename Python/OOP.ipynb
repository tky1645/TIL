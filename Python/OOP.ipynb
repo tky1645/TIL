{
 "cells": [
  {
   "cell_type": "markdown",
   "metadata": {},
   "source": [
    "# Pythonにおけるオブジェクト指向\n",
    "\n",
    "## staticmethodとは\n",
    "\n",
    "`@staticmethod`は、静的メソッドを定義する。\n",
    "静的メソッドとは、オブジェクトを作成せずに呼び出せるメソッドで、通常の関数と同様に使う事ができる。\n",
    "対象のクラスに関わるメソッドであるため、クラス内に作っておいた方が可読性が上がる、という場合に使うとよい。"
   ]
  },
  {
   "cell_type": "code",
   "execution_count": 1,
   "metadata": {},
   "outputs": [
    {
     "name": "stdout",
     "output_type": "stream",
     "text": [
      "1\n"
     ]
    }
   ],
   "source": [
    "class MyClass:\n",
    "  def __init__(self):\n",
    "    pass\n",
    "\n",
    "  @staticmethod\n",
    "  def static_method(arg):\n",
    "    return arg\n",
    "\n",
    "print(MyClass.static_method(1))  # 1"
   ]
  },
  {
   "cell_type": "markdown",
   "metadata": {},
   "source": [
    "## classmethodとは\n",
    "\n",
    "`@classmethod`は、クラスメソッドを定義する\n",
    "クラスメソッドとは、staticmethod同様にオブジェクトを作成せずに呼び出せるメソッドで、第一引数にクラス自体が設定される。\n",
    "オブジェクトの生成に関わる処理を行う関数として使うと良い。\n"
   ]
  },
  {
   "cell_type": "code",
   "execution_count": 4,
   "metadata": {},
   "outputs": [
    {
     "name": "stdout",
     "output_type": "stream",
     "text": [
      "2024\n",
      "5\n",
      "27\n"
     ]
    }
   ],
   "source": [
    "from datetime import datetime\n",
    "\n",
    "class BetterDate:\n",
    "  def __init__(self, year, month, day):\n",
    "    self.year, self.month, self.day = year, month, day\n",
    "\n",
    "  @classmethod\n",
    "  def from_str(cls, datestr):\n",
    "    year, month, day = map(int, datestr.split(\"-\"))\n",
    "    return cls(year, month, day)\n",
    "\n",
    "today = \"2024-05-27\"\n",
    "bd = BetterDate.from_str(today)\n",
    "print(bd.year)\n",
    "print(bd.month)\n",
    "print(bd.day)"
   ]
  },
  {
   "cell_type": "markdown",
   "metadata": {},
   "source": [
    "## 特殊メソッドについて\n",
    "\n",
    "### __init__メソッド\n",
    "\n",
    "`__init__`メソッドは、オブジェクトの生成時に呼び出される。\n",
    "コンストラクタとも呼ばれ、インスタンスの初期値を設定するために使うメソッド。"
   ]
  },
  {
   "cell_type": "code",
   "execution_count": null,
   "metadata": {},
   "outputs": [],
   "source": [
    "class Circle:\n",
    "  def __init__(self, radius):\n",
    "    self.radius = radius\n",
    "    self.diameter = radius * 2"
   ]
  },
  {
   "cell_type": "markdown",
   "metadata": {},
   "source": [
    "### __str__メソッド\n",
    "\n",
    "`__str__`メソッドは、オブジェクトを文字列に変換する際に呼び出される。\n",
    "クラスに__str__メソッドを定義することで、そのオブジェクトに対して文字列が要求された際に返す値を定義することができる。"
   ]
  },
  {
   "cell_type": "code",
   "execution_count": 5,
   "metadata": {},
   "outputs": [
    {
     "name": "stdout",
     "output_type": "stream",
     "text": [
      "Circle with radius: 5\n"
     ]
    }
   ],
   "source": [
    "class Circle:\n",
    "  def __init__(self, radius):\n",
    "    self.radius = radius\n",
    "    self.diameter = radius * 2\n",
    "\n",
    "  def __str__(self):\n",
    "    return f\"Circle with radius: {self.radius}\"\n",
    "\n",
    "circle = Circle(5)\n",
    "print(circle)  # Circle with radius: 5"
   ]
  },
  {
   "cell_type": "markdown",
   "metadata": {},
   "source": [
    "print関数だけでなく、例えばオブジェクトをフォーマットする際にも文字列を要求するので__str__メソッドの値が渡される。"
   ]
  },
  {
   "cell_type": "code",
   "execution_count": 6,
   "metadata": {},
   "outputs": [
    {
     "name": "stdout",
     "output_type": "stream",
     "text": [
      "Sachio is 30 years old. And OdaPi is 31 years old.\n"
     ]
    }
   ],
   "source": [
    "class Person:\n",
    "  def __init__(self, name, age):\n",
    "    self.name = name\n",
    "    self.age = age\n",
    "\n",
    "  def __str__(self):\n",
    "    return f\"{self.name} is {self.age} years old.\"\n",
    "\n",
    "sachio = Person(\"Sachio\", 30)\n",
    "odapi = Person(\"OdaPi\", 31)\n",
    "print(f\"{sachio} And {odapi}\")  # Sachio is 30 years old. And OdaPi is 31 years old."
   ]
  },
  {
   "cell_type": "markdown",
   "metadata": {},
   "source": [
    "### __repr__メソッド\n",
    "\n",
    "`__repr__`メソッドは、同じ値のオブジェクトを再生成できる文字列を定義する。\n",
    "つまり、オブジェクトを再作成するのに役立つ情報を文字列で提供することを目的としている。\n",
    "オブジェクトを文字列に変換する際に、__str__が定義されていない場合は、__repr__メソッドが呼び出される。\n",
    "基本的にはデバッグ時の利用を想定している関数である。"
   ]
  },
  {
   "cell_type": "code",
   "execution_count": 4,
   "metadata": {},
   "outputs": [
    {
     "name": "stdout",
     "output_type": "stream",
     "text": [
      "Circle(5)\n"
     ]
    }
   ],
   "source": [
    "class Circle:\n",
    "  def __init__(self, radius):\n",
    "    self.radius = radius\n",
    "    self.diameter = radius * 2\n",
    "\n",
    "  def __repr__(self):\n",
    "    return f\"Circle({self.radius})\"\n",
    "\n",
    "circle = Circle(5)\n",
    "print(circle)  # Circle(5)"
   ]
  },
  {
   "cell_type": "markdown",
   "metadata": {},
   "source": [
    "### __call__メソッド\n",
    "\n",
    "`__call__`メソッドは、インスタンスを関数のように扱う際に定義する為のメソッドである。"
   ]
  },
  {
   "cell_type": "code",
   "execution_count": 3,
   "metadata": {},
   "outputs": [
    {
     "name": "stdout",
     "output_type": "stream",
     "text": [
      "The coordinate is (x, y) = (5, 10).\n"
     ]
    }
   ],
   "source": [
    "class Coordinate:\n",
    "  def __init__(self, x, y):\n",
    "    self.x = x\n",
    "    self.y = y\n",
    "\n",
    "  def __call__(self):\n",
    "    print(f\"The coordinate is (x, y) = ({self.x}, {self.y}).\")\n",
    "\n",
    "cood = Coordinate(5, 10)\n",
    "cood()  # The coordinate is (x, y) = (5, 10)."
   ]
  }
 ],
 "metadata": {
  "kernelspec": {
   "display_name": "dl_env",
   "language": "python",
   "name": "python3"
  },
  "language_info": {
   "codemirror_mode": {
    "name": "ipython",
    "version": 3
   },
   "file_extension": ".py",
   "mimetype": "text/x-python",
   "name": "python",
   "nbconvert_exporter": "python",
   "pygments_lexer": "ipython3",
   "version": "3.8.18"
  }
 },
 "nbformat": 4,
 "nbformat_minor": 2
}
